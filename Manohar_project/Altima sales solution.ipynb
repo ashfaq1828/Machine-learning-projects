{
 "cells": [
  {
   "cell_type": "code",
   "execution_count": 1,
   "id": "468f9be5",
   "metadata": {},
   "outputs": [
    {
     "data": {
      "text/html": [
       "<div>\n",
       "<style scoped>\n",
       "    .dataframe tbody tr th:only-of-type {\n",
       "        vertical-align: middle;\n",
       "    }\n",
       "\n",
       "    .dataframe tbody tr th {\n",
       "        vertical-align: top;\n",
       "    }\n",
       "\n",
       "    .dataframe thead th {\n",
       "        text-align: right;\n",
       "    }\n",
       "</style>\n",
       "<table border=\"1\" class=\"dataframe\">\n",
       "  <thead>\n",
       "    <tr style=\"text-align: right;\">\n",
       "      <th></th>\n",
       "      <th>model</th>\n",
       "      <th>month</th>\n",
       "      <th>gas_price</th>\n",
       "      <th>discount</th>\n",
       "      <th>sales</th>\n",
       "      <th>TV</th>\n",
       "      <th>YouTube</th>\n",
       "      <th>Radio</th>\n",
       "      <th>Print</th>\n",
       "    </tr>\n",
       "  </thead>\n",
       "  <tbody>\n",
       "    <tr>\n",
       "      <th>0</th>\n",
       "      <td>altima</td>\n",
       "      <td>2018-04-01</td>\n",
       "      <td>2.757</td>\n",
       "      <td>2169.005767</td>\n",
       "      <td>6799</td>\n",
       "      <td>0.000000</td>\n",
       "      <td>6.313814e-06</td>\n",
       "      <td>0.000000</td>\n",
       "      <td>1.398882</td>\n",
       "    </tr>\n",
       "    <tr>\n",
       "      <th>1</th>\n",
       "      <td>altima</td>\n",
       "      <td>2018-05-01</td>\n",
       "      <td>2.901</td>\n",
       "      <td>4745.168681</td>\n",
       "      <td>14992</td>\n",
       "      <td>0.000000</td>\n",
       "      <td>6.313814e-06</td>\n",
       "      <td>3.300356</td>\n",
       "      <td>0.224208</td>\n",
       "    </tr>\n",
       "    <tr>\n",
       "      <th>2</th>\n",
       "      <td>altima</td>\n",
       "      <td>2018-06-01</td>\n",
       "      <td>2.891</td>\n",
       "      <td>4895.379638</td>\n",
       "      <td>19572</td>\n",
       "      <td>0.000000</td>\n",
       "      <td>7.892268e-07</td>\n",
       "      <td>6.479757</td>\n",
       "      <td>0.147138</td>\n",
       "    </tr>\n",
       "    <tr>\n",
       "      <th>3</th>\n",
       "      <td>altima</td>\n",
       "      <td>2018-07-01</td>\n",
       "      <td>2.849</td>\n",
       "      <td>4923.842447</td>\n",
       "      <td>14876</td>\n",
       "      <td>0.000000</td>\n",
       "      <td>0.000000e+00</td>\n",
       "      <td>11.619001</td>\n",
       "      <td>0.680676</td>\n",
       "    </tr>\n",
       "    <tr>\n",
       "      <th>4</th>\n",
       "      <td>altima</td>\n",
       "      <td>2018-08-01</td>\n",
       "      <td>2.836</td>\n",
       "      <td>5026.378048</td>\n",
       "      <td>14656</td>\n",
       "      <td>0.000000</td>\n",
       "      <td>0.000000e+00</td>\n",
       "      <td>32.458100</td>\n",
       "      <td>1.633934</td>\n",
       "    </tr>\n",
       "    <tr>\n",
       "      <th>5</th>\n",
       "      <td>altima</td>\n",
       "      <td>2018-09-01</td>\n",
       "      <td>2.836</td>\n",
       "      <td>4793.929042</td>\n",
       "      <td>11858</td>\n",
       "      <td>0.000000</td>\n",
       "      <td>0.000000e+00</td>\n",
       "      <td>6.096268</td>\n",
       "      <td>2.571470</td>\n",
       "    </tr>\n",
       "    <tr>\n",
       "      <th>6</th>\n",
       "      <td>altima</td>\n",
       "      <td>2018-10-01</td>\n",
       "      <td>2.860</td>\n",
       "      <td>4461.208124</td>\n",
       "      <td>8361</td>\n",
       "      <td>131.929047</td>\n",
       "      <td>3.036707e+01</td>\n",
       "      <td>4.959777</td>\n",
       "      <td>4.609808</td>\n",
       "    </tr>\n",
       "    <tr>\n",
       "      <th>7</th>\n",
       "      <td>altima</td>\n",
       "      <td>2018-11-01</td>\n",
       "      <td>2.647</td>\n",
       "      <td>3736.621021</td>\n",
       "      <td>7434</td>\n",
       "      <td>329.162746</td>\n",
       "      <td>1.423673e+02</td>\n",
       "      <td>41.710968</td>\n",
       "      <td>4.403387</td>\n",
       "    </tr>\n",
       "    <tr>\n",
       "      <th>8</th>\n",
       "      <td>altima</td>\n",
       "      <td>2018-12-01</td>\n",
       "      <td>2.366</td>\n",
       "      <td>3027.914496</td>\n",
       "      <td>8425</td>\n",
       "      <td>379.190176</td>\n",
       "      <td>3.040165e+02</td>\n",
       "      <td>220.816475</td>\n",
       "      <td>1.237228</td>\n",
       "    </tr>\n",
       "    <tr>\n",
       "      <th>9</th>\n",
       "      <td>altima</td>\n",
       "      <td>2019-01-01</td>\n",
       "      <td>2.248</td>\n",
       "      <td>3312.192169</td>\n",
       "      <td>8100</td>\n",
       "      <td>1.351472</td>\n",
       "      <td>2.615088e+01</td>\n",
       "      <td>115.369483</td>\n",
       "      <td>1.703889</td>\n",
       "    </tr>\n",
       "    <tr>\n",
       "      <th>10</th>\n",
       "      <td>altima</td>\n",
       "      <td>2019-02-01</td>\n",
       "      <td>2.309</td>\n",
       "      <td>3292.547591</td>\n",
       "      <td>9533</td>\n",
       "      <td>1.764238</td>\n",
       "      <td>6.710170e+01</td>\n",
       "      <td>146.510346</td>\n",
       "      <td>2.291078</td>\n",
       "    </tr>\n",
       "    <tr>\n",
       "      <th>11</th>\n",
       "      <td>altima</td>\n",
       "      <td>2019-03-01</td>\n",
       "      <td>2.516</td>\n",
       "      <td>3618.329962</td>\n",
       "      <td>13895</td>\n",
       "      <td>0.533044</td>\n",
       "      <td>1.281484e+02</td>\n",
       "      <td>107.033776</td>\n",
       "      <td>0.623688</td>\n",
       "    </tr>\n",
       "    <tr>\n",
       "      <th>12</th>\n",
       "      <td>altima</td>\n",
       "      <td>2019-04-01</td>\n",
       "      <td>2.798</td>\n",
       "      <td>3530.703957</td>\n",
       "      <td>10578</td>\n",
       "      <td>36.376332</td>\n",
       "      <td>1.834191e+00</td>\n",
       "      <td>7.223108</td>\n",
       "      <td>0.095362</td>\n",
       "    </tr>\n",
       "    <tr>\n",
       "      <th>13</th>\n",
       "      <td>altima</td>\n",
       "      <td>2019-05-01</td>\n",
       "      <td>2.859</td>\n",
       "      <td>3072.642336</td>\n",
       "      <td>11282</td>\n",
       "      <td>4.779084</td>\n",
       "      <td>5.366742e-05</td>\n",
       "      <td>13.175822</td>\n",
       "      <td>0.250456</td>\n",
       "    </tr>\n",
       "    <tr>\n",
       "      <th>14</th>\n",
       "      <td>altima</td>\n",
       "      <td>2019-06-01</td>\n",
       "      <td>2.716</td>\n",
       "      <td>3086.183793</td>\n",
       "      <td>11263</td>\n",
       "      <td>23.120163</td>\n",
       "      <td>1.025995e-05</td>\n",
       "      <td>241.996590</td>\n",
       "      <td>0.224877</td>\n",
       "    </tr>\n",
       "    <tr>\n",
       "      <th>15</th>\n",
       "      <td>altima</td>\n",
       "      <td>2019-07-01</td>\n",
       "      <td>2.740</td>\n",
       "      <td>3376.323857</td>\n",
       "      <td>9608</td>\n",
       "      <td>0.000000</td>\n",
       "      <td>7.103041e-06</td>\n",
       "      <td>195.639110</td>\n",
       "      <td>0.497267</td>\n",
       "    </tr>\n",
       "    <tr>\n",
       "      <th>16</th>\n",
       "      <td>altima</td>\n",
       "      <td>2019-08-01</td>\n",
       "      <td>2.621</td>\n",
       "      <td>3546.939504</td>\n",
       "      <td>10561</td>\n",
       "      <td>0.000000</td>\n",
       "      <td>2.367680e-06</td>\n",
       "      <td>148.575973</td>\n",
       "      <td>0.288977</td>\n",
       "    </tr>\n",
       "    <tr>\n",
       "      <th>17</th>\n",
       "      <td>altima</td>\n",
       "      <td>2019-09-01</td>\n",
       "      <td>2.592</td>\n",
       "      <td>3500.455198</td>\n",
       "      <td>7937</td>\n",
       "      <td>0.737611</td>\n",
       "      <td>3.417205e+01</td>\n",
       "      <td>27.954305</td>\n",
       "      <td>0.819971</td>\n",
       "    </tr>\n",
       "    <tr>\n",
       "      <th>18</th>\n",
       "      <td>altima</td>\n",
       "      <td>2019-10-01</td>\n",
       "      <td>2.627</td>\n",
       "      <td>3410.224706</td>\n",
       "      <td>8228</td>\n",
       "      <td>24.845176</td>\n",
       "      <td>2.053965e+02</td>\n",
       "      <td>189.321249</td>\n",
       "      <td>2.860706</td>\n",
       "    </tr>\n",
       "    <tr>\n",
       "      <th>19</th>\n",
       "      <td>altima</td>\n",
       "      <td>2019-11-01</td>\n",
       "      <td>2.598</td>\n",
       "      <td>3704.792527</td>\n",
       "      <td>10072</td>\n",
       "      <td>25.783492</td>\n",
       "      <td>1.008006e+02</td>\n",
       "      <td>295.444827</td>\n",
       "      <td>2.623146</td>\n",
       "    </tr>\n",
       "    <tr>\n",
       "      <th>20</th>\n",
       "      <td>altima</td>\n",
       "      <td>2019-12-01</td>\n",
       "      <td>2.555</td>\n",
       "      <td>3524.311016</td>\n",
       "      <td>10354</td>\n",
       "      <td>102.933400</td>\n",
       "      <td>7.700752e+01</td>\n",
       "      <td>149.955432</td>\n",
       "      <td>0.152766</td>\n",
       "    </tr>\n",
       "    <tr>\n",
       "      <th>21</th>\n",
       "      <td>altima</td>\n",
       "      <td>2020-01-01</td>\n",
       "      <td>2.548</td>\n",
       "      <td>3194.760690</td>\n",
       "      <td>7413</td>\n",
       "      <td>0.000000</td>\n",
       "      <td>1.353524e-03</td>\n",
       "      <td>212.064900</td>\n",
       "      <td>0.807481</td>\n",
       "    </tr>\n",
       "    <tr>\n",
       "      <th>22</th>\n",
       "      <td>altima</td>\n",
       "      <td>2020-02-01</td>\n",
       "      <td>2.442</td>\n",
       "      <td>3227.203323</td>\n",
       "      <td>8378</td>\n",
       "      <td>0.000000</td>\n",
       "      <td>1.578454e-06</td>\n",
       "      <td>262.207224</td>\n",
       "      <td>1.271302</td>\n",
       "    </tr>\n",
       "    <tr>\n",
       "      <th>23</th>\n",
       "      <td>altima</td>\n",
       "      <td>2020-03-01</td>\n",
       "      <td>2.234</td>\n",
       "      <td>3041.494149</td>\n",
       "      <td>5835</td>\n",
       "      <td>0.000000</td>\n",
       "      <td>7.892268e-07</td>\n",
       "      <td>35.410658</td>\n",
       "      <td>0.120137</td>\n",
       "    </tr>\n",
       "    <tr>\n",
       "      <th>24</th>\n",
       "      <td>altima</td>\n",
       "      <td>2020-04-01</td>\n",
       "      <td>1.841</td>\n",
       "      <td>3251.726881</td>\n",
       "      <td>3837</td>\n",
       "      <td>0.000000</td>\n",
       "      <td>0.000000e+00</td>\n",
       "      <td>0.000000</td>\n",
       "      <td>0.000000</td>\n",
       "    </tr>\n",
       "    <tr>\n",
       "      <th>25</th>\n",
       "      <td>altima</td>\n",
       "      <td>2020-05-01</td>\n",
       "      <td>1.870</td>\n",
       "      <td>3418.690810</td>\n",
       "      <td>6371</td>\n",
       "      <td>0.000000</td>\n",
       "      <td>0.000000e+00</td>\n",
       "      <td>0.000000</td>\n",
       "      <td>0.000000</td>\n",
       "    </tr>\n",
       "    <tr>\n",
       "      <th>26</th>\n",
       "      <td>altima</td>\n",
       "      <td>2020-06-01</td>\n",
       "      <td>2.082</td>\n",
       "      <td>3550.555946</td>\n",
       "      <td>6730</td>\n",
       "      <td>0.000000</td>\n",
       "      <td>0.000000e+00</td>\n",
       "      <td>21.941572</td>\n",
       "      <td>0.000000</td>\n",
       "    </tr>\n",
       "    <tr>\n",
       "      <th>27</th>\n",
       "      <td>altima</td>\n",
       "      <td>2020-07-01</td>\n",
       "      <td>2.183</td>\n",
       "      <td>3891.741723</td>\n",
       "      <td>8226</td>\n",
       "      <td>0.000000</td>\n",
       "      <td>0.000000e+00</td>\n",
       "      <td>3.223852</td>\n",
       "      <td>0.248960</td>\n",
       "    </tr>\n",
       "    <tr>\n",
       "      <th>28</th>\n",
       "      <td>altima</td>\n",
       "      <td>2020-08-01</td>\n",
       "      <td>2.182</td>\n",
       "      <td>2983.160508</td>\n",
       "      <td>8699</td>\n",
       "      <td>0.000000</td>\n",
       "      <td>0.000000e+00</td>\n",
       "      <td>68.573746</td>\n",
       "      <td>0.438764</td>\n",
       "    </tr>\n",
       "    <tr>\n",
       "      <th>29</th>\n",
       "      <td>altima</td>\n",
       "      <td>2020-09-01</td>\n",
       "      <td>2.183</td>\n",
       "      <td>3459.552307</td>\n",
       "      <td>9795</td>\n",
       "      <td>51.469430</td>\n",
       "      <td>1.280986e+01</td>\n",
       "      <td>14.844955</td>\n",
       "      <td>0.031985</td>\n",
       "    </tr>\n",
       "    <tr>\n",
       "      <th>30</th>\n",
       "      <td>altima</td>\n",
       "      <td>2020-10-01</td>\n",
       "      <td>2.158</td>\n",
       "      <td>3433.776932</td>\n",
       "      <td>9887</td>\n",
       "      <td>140.410560</td>\n",
       "      <td>2.708666e+02</td>\n",
       "      <td>0.110706</td>\n",
       "      <td>0.204981</td>\n",
       "    </tr>\n",
       "    <tr>\n",
       "      <th>31</th>\n",
       "      <td>altima</td>\n",
       "      <td>2020-11-01</td>\n",
       "      <td>2.108</td>\n",
       "      <td>3316.929400</td>\n",
       "      <td>7642</td>\n",
       "      <td>51.687250</td>\n",
       "      <td>5.510040e+01</td>\n",
       "      <td>95.942728</td>\n",
       "      <td>0.264824</td>\n",
       "    </tr>\n",
       "    <tr>\n",
       "      <th>32</th>\n",
       "      <td>altima</td>\n",
       "      <td>2020-12-01</td>\n",
       "      <td>2.195</td>\n",
       "      <td>3130.889725</td>\n",
       "      <td>8971</td>\n",
       "      <td>0.000000</td>\n",
       "      <td>6.137265e+00</td>\n",
       "      <td>118.660279</td>\n",
       "      <td>0.143011</td>\n",
       "    </tr>\n",
       "    <tr>\n",
       "      <th>33</th>\n",
       "      <td>altima</td>\n",
       "      <td>2021-01-01</td>\n",
       "      <td>2.334</td>\n",
       "      <td>3260.354357</td>\n",
       "      <td>4820</td>\n",
       "      <td>0.000000</td>\n",
       "      <td>1.736299e-05</td>\n",
       "      <td>6.809743</td>\n",
       "      <td>0.284319</td>\n",
       "    </tr>\n",
       "    <tr>\n",
       "      <th>34</th>\n",
       "      <td>altima</td>\n",
       "      <td>2021-02-01</td>\n",
       "      <td>2.501</td>\n",
       "      <td>3237.737644</td>\n",
       "      <td>5090</td>\n",
       "      <td>0.000000</td>\n",
       "      <td>5.524588e-06</td>\n",
       "      <td>76.918996</td>\n",
       "      <td>0.316303</td>\n",
       "    </tr>\n",
       "    <tr>\n",
       "      <th>35</th>\n",
       "      <td>altima</td>\n",
       "      <td>2021-03-01</td>\n",
       "      <td>2.810</td>\n",
       "      <td>3223.425780</td>\n",
       "      <td>8384</td>\n",
       "      <td>0.000000</td>\n",
       "      <td>1.270655e-04</td>\n",
       "      <td>100.967147</td>\n",
       "      <td>0.424608</td>\n",
       "    </tr>\n",
       "  </tbody>\n",
       "</table>\n",
       "</div>"
      ],
      "text/plain": [
       "     model      month  gas_price     discount  sales          TV  \\\n",
       "0   altima 2018-04-01      2.757  2169.005767   6799    0.000000   \n",
       "1   altima 2018-05-01      2.901  4745.168681  14992    0.000000   \n",
       "2   altima 2018-06-01      2.891  4895.379638  19572    0.000000   \n",
       "3   altima 2018-07-01      2.849  4923.842447  14876    0.000000   \n",
       "4   altima 2018-08-01      2.836  5026.378048  14656    0.000000   \n",
       "5   altima 2018-09-01      2.836  4793.929042  11858    0.000000   \n",
       "6   altima 2018-10-01      2.860  4461.208124   8361  131.929047   \n",
       "7   altima 2018-11-01      2.647  3736.621021   7434  329.162746   \n",
       "8   altima 2018-12-01      2.366  3027.914496   8425  379.190176   \n",
       "9   altima 2019-01-01      2.248  3312.192169   8100    1.351472   \n",
       "10  altima 2019-02-01      2.309  3292.547591   9533    1.764238   \n",
       "11  altima 2019-03-01      2.516  3618.329962  13895    0.533044   \n",
       "12  altima 2019-04-01      2.798  3530.703957  10578   36.376332   \n",
       "13  altima 2019-05-01      2.859  3072.642336  11282    4.779084   \n",
       "14  altima 2019-06-01      2.716  3086.183793  11263   23.120163   \n",
       "15  altima 2019-07-01      2.740  3376.323857   9608    0.000000   \n",
       "16  altima 2019-08-01      2.621  3546.939504  10561    0.000000   \n",
       "17  altima 2019-09-01      2.592  3500.455198   7937    0.737611   \n",
       "18  altima 2019-10-01      2.627  3410.224706   8228   24.845176   \n",
       "19  altima 2019-11-01      2.598  3704.792527  10072   25.783492   \n",
       "20  altima 2019-12-01      2.555  3524.311016  10354  102.933400   \n",
       "21  altima 2020-01-01      2.548  3194.760690   7413    0.000000   \n",
       "22  altima 2020-02-01      2.442  3227.203323   8378    0.000000   \n",
       "23  altima 2020-03-01      2.234  3041.494149   5835    0.000000   \n",
       "24  altima 2020-04-01      1.841  3251.726881   3837    0.000000   \n",
       "25  altima 2020-05-01      1.870  3418.690810   6371    0.000000   \n",
       "26  altima 2020-06-01      2.082  3550.555946   6730    0.000000   \n",
       "27  altima 2020-07-01      2.183  3891.741723   8226    0.000000   \n",
       "28  altima 2020-08-01      2.182  2983.160508   8699    0.000000   \n",
       "29  altima 2020-09-01      2.183  3459.552307   9795   51.469430   \n",
       "30  altima 2020-10-01      2.158  3433.776932   9887  140.410560   \n",
       "31  altima 2020-11-01      2.108  3316.929400   7642   51.687250   \n",
       "32  altima 2020-12-01      2.195  3130.889725   8971    0.000000   \n",
       "33  altima 2021-01-01      2.334  3260.354357   4820    0.000000   \n",
       "34  altima 2021-02-01      2.501  3237.737644   5090    0.000000   \n",
       "35  altima 2021-03-01      2.810  3223.425780   8384    0.000000   \n",
       "\n",
       "         YouTube       Radio     Print  \n",
       "0   6.313814e-06    0.000000  1.398882  \n",
       "1   6.313814e-06    3.300356  0.224208  \n",
       "2   7.892268e-07    6.479757  0.147138  \n",
       "3   0.000000e+00   11.619001  0.680676  \n",
       "4   0.000000e+00   32.458100  1.633934  \n",
       "5   0.000000e+00    6.096268  2.571470  \n",
       "6   3.036707e+01    4.959777  4.609808  \n",
       "7   1.423673e+02   41.710968  4.403387  \n",
       "8   3.040165e+02  220.816475  1.237228  \n",
       "9   2.615088e+01  115.369483  1.703889  \n",
       "10  6.710170e+01  146.510346  2.291078  \n",
       "11  1.281484e+02  107.033776  0.623688  \n",
       "12  1.834191e+00    7.223108  0.095362  \n",
       "13  5.366742e-05   13.175822  0.250456  \n",
       "14  1.025995e-05  241.996590  0.224877  \n",
       "15  7.103041e-06  195.639110  0.497267  \n",
       "16  2.367680e-06  148.575973  0.288977  \n",
       "17  3.417205e+01   27.954305  0.819971  \n",
       "18  2.053965e+02  189.321249  2.860706  \n",
       "19  1.008006e+02  295.444827  2.623146  \n",
       "20  7.700752e+01  149.955432  0.152766  \n",
       "21  1.353524e-03  212.064900  0.807481  \n",
       "22  1.578454e-06  262.207224  1.271302  \n",
       "23  7.892268e-07   35.410658  0.120137  \n",
       "24  0.000000e+00    0.000000  0.000000  \n",
       "25  0.000000e+00    0.000000  0.000000  \n",
       "26  0.000000e+00   21.941572  0.000000  \n",
       "27  0.000000e+00    3.223852  0.248960  \n",
       "28  0.000000e+00   68.573746  0.438764  \n",
       "29  1.280986e+01   14.844955  0.031985  \n",
       "30  2.708666e+02    0.110706  0.204981  \n",
       "31  5.510040e+01   95.942728  0.264824  \n",
       "32  6.137265e+00  118.660279  0.143011  \n",
       "33  1.736299e-05    6.809743  0.284319  \n",
       "34  5.524588e-06   76.918996  0.316303  \n",
       "35  1.270655e-04  100.967147  0.424608  "
      ]
     },
     "execution_count": 1,
     "metadata": {},
     "output_type": "execute_result"
    }
   ],
   "source": [
    "# Importing all the important libraries to run an ML model\n",
    "import pandas as pd\n",
    "import numpy as np\n",
    "import seaborn as sns\n",
    "import matplotlib.pyplot as plt\n",
    "import statsmodels.api as sm\n",
    "from sklearn.model_selection import train_test_split\n",
    "\n",
    "# Loading the Model data set as df\n",
    "df = pd.read_excel(\"ModelingDataset.xlsx\")\n",
    "df"
   ]
  },
  {
   "cell_type": "code",
   "execution_count": 2,
   "id": "8bc39b08",
   "metadata": {},
   "outputs": [
    {
     "name": "stdout",
     "output_type": "stream",
     "text": [
      "<class 'pandas.core.frame.DataFrame'>\n",
      "RangeIndex: 36 entries, 0 to 35\n",
      "Data columns (total 9 columns):\n",
      " #   Column     Non-Null Count  Dtype         \n",
      "---  ------     --------------  -----         \n",
      " 0   model      36 non-null     object        \n",
      " 1   month      36 non-null     datetime64[ns]\n",
      " 2   gas_price  36 non-null     float64       \n",
      " 3   discount   36 non-null     float64       \n",
      " 4   sales      36 non-null     int64         \n",
      " 5   TV         36 non-null     float64       \n",
      " 6   YouTube    36 non-null     float64       \n",
      " 7   Radio      36 non-null     float64       \n",
      " 8   Print      36 non-null     float64       \n",
      "dtypes: datetime64[ns](1), float64(6), int64(1), object(1)\n",
      "memory usage: 2.7+ KB\n"
     ]
    }
   ],
   "source": [
    "df.info() # With .info() we can find out all the important features such as Dtype, nullcount ets"
   ]
  },
  {
   "cell_type": "markdown",
   "id": "abf61c51",
   "metadata": {},
   "source": [
    "#### What did we understand?\n",
    "* As we can see from the .info() function that there are no null values in the dataset\n",
    "* Here there one object type data set\n",
    "* Most of the values are in int or float Dtype"
   ]
  },
  {
   "cell_type": "code",
   "execution_count": 3,
   "id": "43382330",
   "metadata": {},
   "outputs": [
    {
     "data": {
      "text/plain": [
       "model        0\n",
       "month        0\n",
       "gas_price    0\n",
       "discount     0\n",
       "sales        0\n",
       "TV           0\n",
       "YouTube      0\n",
       "Radio        0\n",
       "Print        0\n",
       "dtype: int64"
      ]
     },
     "execution_count": 3,
     "metadata": {},
     "output_type": "execute_result"
    }
   ],
   "source": [
    "df.isnull().sum() # Checking if there are any null values in the dataset"
   ]
  },
  {
   "cell_type": "markdown",
   "id": "eaf7233a",
   "metadata": {},
   "source": [
    "#### What did we understand?\n",
    "* As we can see there is no missing data in our dataset, Hence we need not worry about filling them"
   ]
  },
  {
   "cell_type": "code",
   "execution_count": 4,
   "id": "8985599f",
   "metadata": {},
   "outputs": [
    {
     "data": {
      "text/html": [
       "<div>\n",
       "<style scoped>\n",
       "    .dataframe tbody tr th:only-of-type {\n",
       "        vertical-align: middle;\n",
       "    }\n",
       "\n",
       "    .dataframe tbody tr th {\n",
       "        vertical-align: top;\n",
       "    }\n",
       "\n",
       "    .dataframe thead th {\n",
       "        text-align: right;\n",
       "    }\n",
       "</style>\n",
       "<table border=\"1\" class=\"dataframe\">\n",
       "  <thead>\n",
       "    <tr style=\"text-align: right;\">\n",
       "      <th></th>\n",
       "      <th>gas_price</th>\n",
       "      <th>discount</th>\n",
       "      <th>sales</th>\n",
       "      <th>TV</th>\n",
       "      <th>YouTube</th>\n",
       "      <th>Radio</th>\n",
       "      <th>Print</th>\n",
       "    </tr>\n",
       "  </thead>\n",
       "  <tbody>\n",
       "    <tr>\n",
       "      <th>gas_price</th>\n",
       "      <td>1.000000</td>\n",
       "      <td>0.440228</td>\n",
       "      <td>0.601739</td>\n",
       "      <td>-0.004051</td>\n",
       "      <td>-0.113557</td>\n",
       "      <td>0.057244</td>\n",
       "      <td>0.333175</td>\n",
       "    </tr>\n",
       "    <tr>\n",
       "      <th>discount</th>\n",
       "      <td>0.440228</td>\n",
       "      <td>1.000000</td>\n",
       "      <td>0.688350</td>\n",
       "      <td>-0.045284</td>\n",
       "      <td>-0.120027</td>\n",
       "      <td>-0.309899</td>\n",
       "      <td>0.234587</td>\n",
       "    </tr>\n",
       "    <tr>\n",
       "      <th>sales</th>\n",
       "      <td>0.601739</td>\n",
       "      <td>0.688350</td>\n",
       "      <td>1.000000</td>\n",
       "      <td>-0.101003</td>\n",
       "      <td>-0.019420</td>\n",
       "      <td>-0.045434</td>\n",
       "      <td>-0.035276</td>\n",
       "    </tr>\n",
       "    <tr>\n",
       "      <th>TV</th>\n",
       "      <td>-0.004051</td>\n",
       "      <td>-0.045284</td>\n",
       "      <td>-0.101003</td>\n",
       "      <td>1.000000</td>\n",
       "      <td>0.725429</td>\n",
       "      <td>0.110965</td>\n",
       "      <td>0.419550</td>\n",
       "    </tr>\n",
       "    <tr>\n",
       "      <th>YouTube</th>\n",
       "      <td>-0.113557</td>\n",
       "      <td>-0.120027</td>\n",
       "      <td>-0.019420</td>\n",
       "      <td>0.725429</td>\n",
       "      <td>1.000000</td>\n",
       "      <td>0.272935</td>\n",
       "      <td>0.310192</td>\n",
       "    </tr>\n",
       "    <tr>\n",
       "      <th>Radio</th>\n",
       "      <td>0.057244</td>\n",
       "      <td>-0.309899</td>\n",
       "      <td>-0.045434</td>\n",
       "      <td>0.110965</td>\n",
       "      <td>0.272935</td>\n",
       "      <td>1.000000</td>\n",
       "      <td>0.151218</td>\n",
       "    </tr>\n",
       "    <tr>\n",
       "      <th>Print</th>\n",
       "      <td>0.333175</td>\n",
       "      <td>0.234587</td>\n",
       "      <td>-0.035276</td>\n",
       "      <td>0.419550</td>\n",
       "      <td>0.310192</td>\n",
       "      <td>0.151218</td>\n",
       "      <td>1.000000</td>\n",
       "    </tr>\n",
       "  </tbody>\n",
       "</table>\n",
       "</div>"
      ],
      "text/plain": [
       "           gas_price  discount     sales        TV   YouTube     Radio  \\\n",
       "gas_price   1.000000  0.440228  0.601739 -0.004051 -0.113557  0.057244   \n",
       "discount    0.440228  1.000000  0.688350 -0.045284 -0.120027 -0.309899   \n",
       "sales       0.601739  0.688350  1.000000 -0.101003 -0.019420 -0.045434   \n",
       "TV         -0.004051 -0.045284 -0.101003  1.000000  0.725429  0.110965   \n",
       "YouTube    -0.113557 -0.120027 -0.019420  0.725429  1.000000  0.272935   \n",
       "Radio       0.057244 -0.309899 -0.045434  0.110965  0.272935  1.000000   \n",
       "Print       0.333175  0.234587 -0.035276  0.419550  0.310192  0.151218   \n",
       "\n",
       "              Print  \n",
       "gas_price  0.333175  \n",
       "discount   0.234587  \n",
       "sales     -0.035276  \n",
       "TV         0.419550  \n",
       "YouTube    0.310192  \n",
       "Radio      0.151218  \n",
       "Print      1.000000  "
      ]
     },
     "execution_count": 4,
     "metadata": {},
     "output_type": "execute_result"
    }
   ],
   "source": [
    "df.corr()"
   ]
  },
  {
   "cell_type": "markdown",
   "id": "9108c82d",
   "metadata": {},
   "source": [
    "#### What did we understand?\n",
    "* Here we can clearly see that the relation between all our variables\n",
    "* Our target variable / Dependant variable is the Sales we need to forcast it\n",
    "* There is good relation between the sales and the gas_price\n",
    "* Here there is good relation between sales and the discount "
   ]
  },
  {
   "cell_type": "code",
   "execution_count": 5,
   "id": "7be9e8c1",
   "metadata": {},
   "outputs": [],
   "source": [
    "df['Year']  = df['month'].apply(lambda x: int(str(x)[:4])) # Seperating the year and the month from the date column\n",
    "df['Month'] = df['month'].apply(lambda x: int(str(x)[5:7]))\n",
    "df.drop(['month'],axis=1,inplace=True) #Now after seperating it we can drop the original column."
   ]
  },
  {
   "cell_type": "code",
   "execution_count": 6,
   "id": "2ec0b6e4",
   "metadata": {},
   "outputs": [
    {
     "data": {
      "text/plain": [
       "[Text(0.5, 1.0, 'Year vs Sales')]"
      ]
     },
     "execution_count": 6,
     "metadata": {},
     "output_type": "execute_result"
    },
    {
     "data": {
      "image/png": "[encoded data removed]",
      "text/plain": [
       "<Figure size 432x288 with 1 Axes>"
      ]
     },
     "metadata": {
      "needs_background": "light"
     },
     "output_type": "display_data"
    }
   ],
   "source": [
    "#Checking if there is any relation etween the year and the sales \n",
    "sns.barplot(x='Year', y='sales', data=df).set(title='Year vs Sales') "
   ]
  },
  {
   "cell_type": "markdown",
   "id": "7126c707",
   "metadata": {},
   "source": [
    "#### As we can see from the Year vs Sales bar graph the sales have been actually decreasing from the year 2018"
   ]
  },
  {
   "cell_type": "code",
   "execution_count": 7,
   "id": "6e38ddc0",
   "metadata": {},
   "outputs": [
    {
     "data": {
      "text/plain": [
       "[Text(0.5, 1.0, 'Month vs Sales')]"
      ]
     },
     "execution_count": 7,
     "metadata": {},
     "output_type": "execute_result"
    },
    {
     "data": {
      "image/png": "[encoded data removed]",
      "text/plain": [
       "<Figure size 432x288 with 1 Axes>"
      ]
     },
     "metadata": {
      "needs_background": "light"
     },
     "output_type": "display_data"
    }
   ],
   "source": [
    "# Lets plot a bar graph for month and sales and see if there are any exeptional months where the sales vary\n",
    "\n",
    "sns.barplot(x='Month', y='sales', data=df).set(title='Month vs Sales') "
   ]
  },
  {
   "cell_type": "markdown",
   "id": "2e984437",
   "metadata": {},
   "source": [
    "#### What did ewe understand from this?\n",
    "* Here we can see that the sales is actually lower in the 1, 2 and the 4th months\n",
    "* Sales is moderate in the 3,6, 9, 11 and the 12th months\n",
    "* The sales are actfually higher on the 5th, 7th and 8th months ( This may be due to various reasons)"
   ]
  },
  {
   "cell_type": "code",
   "execution_count": 8,
   "id": "391e73dc",
   "metadata": {},
   "outputs": [
    {
     "data": {
      "text/plain": [
       "<AxesSubplot:>"
      ]
     },
     "execution_count": 8,
     "metadata": {},
     "output_type": "execute_result"
    },
    {
     "data": {
      "image/png": "[encoded data removed]",
      "text/plain": [
       "<Figure size 720x432 with 2 Axes>"
      ]
     },
     "metadata": {
      "needs_background": "light"
     },
     "output_type": "display_data"
    }
   ],
   "source": [
    "# Now plotting the heat map to corner out all the independant variables\n",
    "\n",
    "plt.figure(figsize=(10,6))\n",
    "sns.heatmap(df.corr(),annot=True)"
   ]
  },
  {
   "cell_type": "markdown",
   "id": "c3ccef08",
   "metadata": {},
   "source": [
    "#### What did we understand from the heat map?\n",
    "* There is clearly relation between the sales and the gas price\n",
    "* There is a relation between the sales and the discount\n",
    "* There is a relation between the sales and the month"
   ]
  },
  {
   "cell_type": "code",
   "execution_count": 9,
   "id": "1b7ac96b",
   "metadata": {},
   "outputs": [
    {
     "data": {
      "text/plain": [
       "Text(0.5, 1.0, 'gas_price VS sales')"
      ]
     },
     "execution_count": 9,
     "metadata": {},
     "output_type": "execute_result"
    },
    {
     "data": {
      "image/png": "[encoded data removed]",
      "text/plain": [
       "<Figure size 432x288 with 1 Axes>"
      ]
     },
     "metadata": {
      "needs_background": "light"
     },
     "output_type": "display_data"
    }
   ],
   "source": [
    "# Plotting a scatter plot to check the type of relation between the gas_price and the sales\n",
    "\n",
    "plt.scatter(x='gas_price', y='sales', data= df)\n",
    "plt.title('gas_price VS sales', fontsize = 15)"
   ]
  },
  {
   "cell_type": "code",
   "execution_count": 10,
   "id": "78c4a7e7",
   "metadata": {},
   "outputs": [
    {
     "data": {
      "text/plain": [
       "Text(0.5, 1.0, 'discount VS sales')"
      ]
     },
     "execution_count": 10,
     "metadata": {},
     "output_type": "execute_result"
    },
    {
     "data": {
      "image/png": "[encoded data removed]",
      "text/plain": [
       "<Figure size 432x288 with 1 Axes>"
      ]
     },
     "metadata": {
      "needs_background": "light"
     },
     "output_type": "display_data"
    }
   ],
   "source": [
    "# Plotting an scatter plot to check the type of relatioln between the sales and the discount\n",
    "plt.scatter(x='discount', y='sales', data= df)\n",
    "plt.title('discount VS sales', fontsize = 15)"
   ]
  },
  {
   "cell_type": "code",
   "execution_count": 11,
   "id": "8c960fbd",
   "metadata": {},
   "outputs": [
    {
     "data": {
      "text/plain": [
       "<seaborn.axisgrid.FacetGrid at 0x1c063652e50>"
      ]
     },
     "execution_count": 11,
     "metadata": {},
     "output_type": "execute_result"
    },
    {
     "data": {
      "image/png": "[encoded data removed]",
      "text/plain": [
       "<Figure size 360x360 with 1 Axes>"
      ]
     },
     "metadata": {
      "needs_background": "light"
     },
     "output_type": "display_data"
    }
   ],
   "source": [
    "# Checking if there are any outliers in the gas_price using visualization\n",
    "\n",
    "sns.displot(df[\"gas_price\"],bins = 20)"
   ]
  },
  {
   "cell_type": "markdown",
   "id": "8bf41a7a",
   "metadata": {},
   "source": [
    "#### There are outliers present in the model for now let this be if it effects the score we can remove them"
   ]
  },
  {
   "cell_type": "code",
   "execution_count": 12,
   "id": "353c1677",
   "metadata": {},
   "outputs": [
    {
     "data": {
      "text/plain": [
       "<seaborn.axisgrid.FacetGrid at 0x1c0636fd2b0>"
      ]
     },
     "execution_count": 12,
     "metadata": {},
     "output_type": "execute_result"
    },
    {
     "data": {
      "image/png": "[encoded data removed]",
      "text/plain": [
       "<Figure size 360x360 with 1 Axes>"
      ]
     },
     "metadata": {
      "needs_background": "light"
     },
     "output_type": "display_data"
    }
   ],
   "source": [
    "# Plotting the displot and checking for outliers in discount by visualizing the discount spread using the displot\n",
    "\n",
    "sns.displot(df[\"discount\"])"
   ]
  },
  {
   "cell_type": "markdown",
   "id": "2a6ebc41",
   "metadata": {},
   "source": [
    "#### There are outliers in the begining and the ending of the discount, we'll let this be for now and change it for checking the model accuracy"
   ]
  },
  {
   "cell_type": "code",
   "execution_count": 13,
   "id": "402e006b",
   "metadata": {},
   "outputs": [
    {
     "data": {
      "text/plain": [
       "<seaborn.axisgrid.FacetGrid at 0x1c0638d6d60>"
      ]
     },
     "execution_count": 13,
     "metadata": {},
     "output_type": "execute_result"
    },
    {
     "data": {
      "image/png": "[encoded data removed]",
      "text/plain": [
       "<Figure size 360x360 with 1 Axes>"
      ]
     },
     "metadata": {
      "needs_background": "light"
     },
     "output_type": "display_data"
    }
   ],
   "source": [
    "# Checking for outliers in the sales column\n",
    "\n",
    "sns.displot(df[\"sales\"])"
   ]
  },
  {
   "cell_type": "code",
   "execution_count": 14,
   "id": "58a923b5",
   "metadata": {
    "scrolled": true
   },
   "outputs": [
    {
     "name": "stdout",
     "output_type": "stream",
     "text": [
      "Mean of sales:  9401.722222222223\n",
      "Standard Deviation of sales:  3156.6027326428643\n",
      "Total outlier in dataset are:  1\n",
      "Maximum Score Outlier:  19572\n",
      "Minimum Score Outlier:  19572\n"
     ]
    },
    {
     "data": {
      "text/plain": [
       "<seaborn.axisgrid.FacetGrid at 0x1c063966f40>"
      ]
     },
     "execution_count": 14,
     "metadata": {},
     "output_type": "execute_result"
    },
    {
     "data": {
      "image/png": "[encoded data removed]",
      "text/plain": [
       "<Figure size 360x360 with 1 Axes>"
      ]
     },
     "metadata": {
      "needs_background": "light"
     },
     "output_type": "display_data"
    }
   ],
   "source": [
    "# Using Z Score to detect the number of outliers present in the sales column. \n",
    "\n",
    "mean_of_sales = np.mean(df['sales']) \n",
    "std_of_sales = np.std(df['sales'])\n",
    "print(\"Mean of sales: \",mean_of_sales)\n",
    "print(\"Standard Deviation of sales: \",std_of_sales)\n",
    "\n",
    "threshold = 3\n",
    "outlier_sales = [] \n",
    "for i in df['sales']: \n",
    "    z = (i-mean_of_sales)/std_of_sales\n",
    "    if z > threshold: \n",
    "        outlier_sales.append(i) \n",
    "print('Total outlier in dataset are: ', len(outlier_sales))\n",
    "print(\"Maximum Score Outlier: \", max(outlier_sales))\n",
    "print(\"Minimum Score Outlier: \", min(outlier_sales))\n",
    "\n",
    "sns.displot(x=outlier_sales,bins=20).set(title='Outlier Distribuition of sales')"
   ]
  },
  {
   "cell_type": "markdown",
   "id": "568f363b",
   "metadata": {},
   "source": [
    "#### As you can see that the total number of outliers present is just 1, We can surely remove this value as this will effect our model. "
   ]
  },
  {
   "cell_type": "code",
   "execution_count": 15,
   "id": "7a743e99",
   "metadata": {},
   "outputs": [],
   "source": [
    "# Droping the values aboube the minimum value\n",
    "\n",
    "df.drop(df.loc[df['sales'] > 19572].index,inplace=True)"
   ]
  },
  {
   "cell_type": "code",
   "execution_count": 16,
   "id": "6bf4efcb",
   "metadata": {},
   "outputs": [
    {
     "data": {
      "text/plain": [
       "<seaborn.axisgrid.FacetGrid at 0x1c043383c40>"
      ]
     },
     "execution_count": 16,
     "metadata": {},
     "output_type": "execute_result"
    },
    {
     "data": {
      "image/png": "[encoded data removed]",
      "text/plain": [
       "<Figure size 360x360 with 1 Axes>"
      ]
     },
     "metadata": {
      "needs_background": "light"
     },
     "output_type": "display_data"
    }
   ],
   "source": [
    "# Checking the sales after removing the outlier\n",
    "\n",
    "sns.displot(df[\"sales\"])"
   ]
  },
  {
   "cell_type": "code",
   "execution_count": 17,
   "id": "445b1c69",
   "metadata": {},
   "outputs": [
    {
     "name": "stdout",
     "output_type": "stream",
     "text": [
      "<class 'pandas.core.frame.DataFrame'>\n",
      "Int64Index: 36 entries, 0 to 35\n",
      "Data columns (total 10 columns):\n",
      " #   Column     Non-Null Count  Dtype  \n",
      "---  ------     --------------  -----  \n",
      " 0   model      36 non-null     object \n",
      " 1   gas_price  36 non-null     float64\n",
      " 2   discount   36 non-null     float64\n",
      " 3   sales      36 non-null     int64  \n",
      " 4   TV         36 non-null     float64\n",
      " 5   YouTube    36 non-null     float64\n",
      " 6   Radio      36 non-null     float64\n",
      " 7   Print      36 non-null     float64\n",
      " 8   Year       36 non-null     int64  \n",
      " 9   Month      36 non-null     int64  \n",
      "dtypes: float64(6), int64(3), object(1)\n",
      "memory usage: 3.1+ KB\n"
     ]
    }
   ],
   "source": [
    "df.info()"
   ]
  },
  {
   "cell_type": "code",
   "execution_count": 18,
   "id": "222acd9c",
   "metadata": {},
   "outputs": [
    {
     "data": {
      "text/plain": [
       "array(['altima'], dtype=object)"
      ]
     },
     "execution_count": 18,
     "metadata": {},
     "output_type": "execute_result"
    }
   ],
   "source": [
    "df[\"model\"].unique()"
   ]
  },
  {
   "cell_type": "markdown",
   "id": "4b78501f",
   "metadata": {},
   "source": [
    "## Checking for multicolinearity"
   ]
  },
  {
   "cell_type": "code",
   "execution_count": 19,
   "id": "4cda8c8e",
   "metadata": {},
   "outputs": [
    {
     "name": "stdout",
     "output_type": "stream",
     "text": [
      "   VIF Factor   features\n",
      "0  101.913664  gas_price\n",
      "1   55.866630   discount\n",
      "2    3.127211         TV\n",
      "3    3.124829    YouTube\n",
      "4    2.524994      Radio\n",
      "5    2.424509      Print\n",
      "6   90.009384       Year\n",
      "7    7.176325      Month\n"
     ]
    }
   ],
   "source": [
    "# To check for multicolinearity we'll use  VIF to find itf\n",
    "from statsmodels.stats.outliers_influence import variance_inflation_factor\n",
    "\n",
    "df_1 = df.drop(columns =\"model\") \n",
    "df_2 = df_1.drop(columns = \"sales\")\n",
    "\n",
    "x=df_2\n",
    "\n",
    "vif = pd.DataFrame()\n",
    "vif[\"VIF Factor\"] = [variance_inflation_factor(x.values, i) \n",
    "                     for i in range(x.shape[1])]\n",
    "vif[\"features\"] = x.columns\n",
    "\n",
    "print(vif)"
   ]
  },
  {
   "cell_type": "markdown",
   "id": "1b6ea9b7",
   "metadata": {},
   "source": [
    "#### There is colinearity between the \"gas_price\" , \"discount\" and \"year\""
   ]
  },
  {
   "cell_type": "markdown",
   "id": "87140cc1",
   "metadata": {},
   "source": [
    "# Preparing the model"
   ]
  },
  {
   "cell_type": "code",
   "execution_count": 20,
   "id": "8c578aa9",
   "metadata": {},
   "outputs": [],
   "source": [
    "#Droping the model column because we only have altima in the model and it will not make sense to label encode it\n",
    "\n",
    "df_1 = df.drop(columns =\"model\") \n",
    "df_2 = df_1.drop(columns = \"sales\")"
   ]
  },
  {
   "cell_type": "code",
   "execution_count": 21,
   "id": "e168b559",
   "metadata": {},
   "outputs": [],
   "source": [
    "x= df_2\n",
    "y=df['sales']\n",
    "\n",
    "x_train, x_test, y_train, y_test = train_test_split(x, y, train_size = 0.90,\n",
    "                                                    test_size = 0.10, random_state = 100)"
   ]
  },
  {
   "cell_type": "code",
   "execution_count": 22,
   "id": "16ea0a57",
   "metadata": {},
   "outputs": [
    {
     "name": "stdout",
     "output_type": "stream",
     "text": [
      "<class 'pandas.core.frame.DataFrame'>\n",
      "Int64Index: 36 entries, 0 to 35\n",
      "Data columns (total 8 columns):\n",
      " #   Column     Non-Null Count  Dtype  \n",
      "---  ------     --------------  -----  \n",
      " 0   gas_price  36 non-null     float64\n",
      " 1   discount   36 non-null     float64\n",
      " 2   TV         36 non-null     float64\n",
      " 3   YouTube    36 non-null     float64\n",
      " 4   Radio      36 non-null     float64\n",
      " 5   Print      36 non-null     float64\n",
      " 6   Year       36 non-null     int64  \n",
      " 7   Month      36 non-null     int64  \n",
      "dtypes: float64(6), int64(2)\n",
      "memory usage: 2.5 KB\n"
     ]
    }
   ],
   "source": [
    "x.info()"
   ]
  },
  {
   "cell_type": "code",
   "execution_count": 23,
   "id": "04cfb047",
   "metadata": {},
   "outputs": [
    {
     "data": {
      "text/plain": [
       "Index(['gas_price', 'discount', 'TV', 'YouTube', 'Radio', 'Print', 'Year',\n",
       "       'Month'],\n",
       "      dtype='object')"
      ]
     },
     "execution_count": 23,
     "metadata": {},
     "output_type": "execute_result"
    }
   ],
   "source": [
    "x_train.columns"
   ]
  },
  {
   "cell_type": "code",
   "execution_count": 24,
   "id": "46c1c3ca",
   "metadata": {},
   "outputs": [
    {
     "data": {
      "text/html": [
       "<table class=\"simpletable\">\n",
       "<caption>OLS Regression Results</caption>\n",
       "<tr>\n",
       "  <th>Dep. Variable:</th>          <td>sales</td>      <th>  R-squared (uncentered):</th>      <td>   0.975</td>\n",
       "</tr>\n",
       "<tr>\n",
       "  <th>Model:</th>                   <td>OLS</td>       <th>  Adj. R-squared (uncentered):</th> <td>   0.967</td>\n",
       "</tr>\n",
       "<tr>\n",
       "  <th>Method:</th>             <td>Least Squares</td>  <th>  F-statistic:       </th>          <td>   117.8</td>\n",
       "</tr>\n",
       "<tr>\n",
       "  <th>Date:</th>             <td>Mon, 11 Apr 2022</td> <th>  Prob (F-statistic):</th>          <td>2.34e-17</td>\n",
       "</tr>\n",
       "<tr>\n",
       "  <th>Time:</th>                 <td>15:06:44</td>     <th>  Log-Likelihood:    </th>          <td> -281.22</td>\n",
       "</tr>\n",
       "<tr>\n",
       "  <th>No. Observations:</th>      <td>    32</td>      <th>  AIC:               </th>          <td>   578.4</td>\n",
       "</tr>\n",
       "<tr>\n",
       "  <th>Df Residuals:</th>          <td>    24</td>      <th>  BIC:               </th>          <td>   590.2</td>\n",
       "</tr>\n",
       "<tr>\n",
       "  <th>Df Model:</th>              <td>     8</td>      <th>                     </th>              <td> </td>   \n",
       "</tr>\n",
       "<tr>\n",
       "  <th>Covariance Type:</th>      <td>nonrobust</td>    <th>                     </th>              <td> </td>   \n",
       "</tr>\n",
       "</table>\n",
       "<table class=\"simpletable\">\n",
       "<tr>\n",
       "      <td></td>         <th>coef</th>     <th>std err</th>      <th>t</th>      <th>P>|t|</th>  <th>[0.025</th>    <th>0.975]</th>  \n",
       "</tr>\n",
       "<tr>\n",
       "  <th>gas_price</th> <td> 4767.0537</td> <td> 1471.365</td> <td>    3.240</td> <td> 0.003</td> <td> 1730.305</td> <td> 7803.802</td>\n",
       "</tr>\n",
       "<tr>\n",
       "  <th>discount</th>  <td>    3.7422</td> <td>    0.866</td> <td>    4.322</td> <td> 0.000</td> <td>    1.955</td> <td>    5.529</td>\n",
       "</tr>\n",
       "<tr>\n",
       "  <th>TV</th>        <td>   -4.0824</td> <td>    6.209</td> <td>   -0.657</td> <td> 0.517</td> <td>  -16.898</td> <td>    8.733</td>\n",
       "</tr>\n",
       "<tr>\n",
       "  <th>YouTube</th>   <td>   12.6381</td> <td>    6.317</td> <td>    2.001</td> <td> 0.057</td> <td>   -0.399</td> <td>   25.675</td>\n",
       "</tr>\n",
       "<tr>\n",
       "  <th>Radio</th>     <td>    6.6193</td> <td>    5.031</td> <td>    1.316</td> <td> 0.201</td> <td>   -3.764</td> <td>   17.002</td>\n",
       "</tr>\n",
       "<tr>\n",
       "  <th>Print</th>     <td>-1163.9885</td> <td>  333.284</td> <td>   -3.492</td> <td> 0.002</td> <td>-1851.854</td> <td> -476.123</td>\n",
       "</tr>\n",
       "<tr>\n",
       "  <th>Year</th>      <td>   -7.7552</td> <td>    1.482</td> <td>   -5.233</td> <td> 0.000</td> <td>  -10.814</td> <td>   -4.697</td>\n",
       "</tr>\n",
       "<tr>\n",
       "  <th>Month</th>     <td>  -10.3241</td> <td>  129.123</td> <td>   -0.080</td> <td> 0.937</td> <td> -276.821</td> <td>  256.173</td>\n",
       "</tr>\n",
       "</table>\n",
       "<table class=\"simpletable\">\n",
       "<tr>\n",
       "  <th>Omnibus:</th>       <td> 1.014</td> <th>  Durbin-Watson:     </th> <td>   2.017</td>\n",
       "</tr>\n",
       "<tr>\n",
       "  <th>Prob(Omnibus):</th> <td> 0.602</td> <th>  Jarque-Bera (JB):  </th> <td>   0.937</td>\n",
       "</tr>\n",
       "<tr>\n",
       "  <th>Skew:</th>          <td> 0.382</td> <th>  Prob(JB):          </th> <td>   0.626</td>\n",
       "</tr>\n",
       "<tr>\n",
       "  <th>Kurtosis:</th>      <td> 2.655</td> <th>  Cond. No.          </th> <td>1.90e+04</td>\n",
       "</tr>\n",
       "</table><br/><br/>Notes:<br/>[1] R² is computed without centering (uncentered) since the model does not contain a constant.<br/>[2] Standard Errors assume that the covariance matrix of the errors is correctly specified.<br/>[3] The condition number is large, 1.9e+04. This might indicate that there are<br/>strong multicollinearity or other numerical problems."
      ],
      "text/plain": [
       "<class 'statsmodels.iolib.summary.Summary'>\n",
       "\"\"\"\n",
       "                                 OLS Regression Results                                \n",
       "=======================================================================================\n",
       "Dep. Variable:                  sales   R-squared (uncentered):                   0.975\n",
       "Model:                            OLS   Adj. R-squared (uncentered):              0.967\n",
       "Method:                 Least Squares   F-statistic:                              117.8\n",
       "Date:                Mon, 11 Apr 2022   Prob (F-statistic):                    2.34e-17\n",
       "Time:                        15:06:44   Log-Likelihood:                         -281.22\n",
       "No. Observations:                  32   AIC:                                      578.4\n",
       "Df Residuals:                      24   BIC:                                      590.2\n",
       "Df Model:                           8                                                  \n",
       "Covariance Type:            nonrobust                                                  \n",
       "==============================================================================\n",
       "                 coef    std err          t      P>|t|      [0.025      0.975]\n",
       "------------------------------------------------------------------------------\n",
       "gas_price   4767.0537   1471.365      3.240      0.003    1730.305    7803.802\n",
       "discount       3.7422      0.866      4.322      0.000       1.955       5.529\n",
       "TV            -4.0824      6.209     -0.657      0.517     -16.898       8.733\n",
       "YouTube       12.6381      6.317      2.001      0.057      -0.399      25.675\n",
       "Radio          6.6193      5.031      1.316      0.201      -3.764      17.002\n",
       "Print      -1163.9885    333.284     -3.492      0.002   -1851.854    -476.123\n",
       "Year          -7.7552      1.482     -5.233      0.000     -10.814      -4.697\n",
       "Month        -10.3241    129.123     -0.080      0.937    -276.821     256.173\n",
       "==============================================================================\n",
       "Omnibus:                        1.014   Durbin-Watson:                   2.017\n",
       "Prob(Omnibus):                  0.602   Jarque-Bera (JB):                0.937\n",
       "Skew:                           0.382   Prob(JB):                        0.626\n",
       "Kurtosis:                       2.655   Cond. No.                     1.90e+04\n",
       "==============================================================================\n",
       "\n",
       "Notes:\n",
       "[1] R² is computed without centering (uncentered) since the model does not contain a constant.\n",
       "[2] Standard Errors assume that the covariance matrix of the errors is correctly specified.\n",
       "[3] The condition number is large, 1.9e+04. This might indicate that there are\n",
       "strong multicollinearity or other numerical problems.\n",
       "\"\"\""
      ]
     },
     "execution_count": 24,
     "metadata": {},
     "output_type": "execute_result"
    }
   ],
   "source": [
    "lr = sm.OLS(y_train, x_train).fit()\n",
    "lr.summary()"
   ]
  },
  {
   "cell_type": "code",
   "execution_count": 25,
   "id": "9ffa68a0",
   "metadata": {},
   "outputs": [],
   "source": [
    "from sklearn.metrics import r2_score\n",
    "from sklearn.metrics import mean_squared_error\n",
    "from sklearn.metrics import mean_absolute_error\n",
    "from sklearn.metrics import mean_absolute_percentage_error\n",
    "import math  "
   ]
  },
  {
   "cell_type": "code",
   "execution_count": 26,
   "id": "c70b9d6e",
   "metadata": {},
   "outputs": [
    {
     "name": "stdout",
     "output_type": "stream",
     "text": [
      "r2_score:  0.9658355351102492\n",
      "Mean absolute error: 140.34\n",
      "Root mean squared error:  479.46805294749566\n"
     ]
    }
   ],
   "source": [
    "from sklearn import linear_model \n",
    "\n",
    "reg_model = linear_model.LinearRegression() \n",
    "reg_model.fit(x_train, y_train)\n",
    "\n",
    "prediction_open = reg_model.predict(x_test) \n",
    "\n",
    "prediction_closed = np.zeros(df.shape[0]) \n",
    "\n",
    "prediction = np.append(prediction_open, prediction_closed)\n",
    "\n",
    "y_test = np.append(y_test, np.zeros(df.shape[0]))\n",
    "\n",
    "print(\"r2_score: \",r2_score(y_test,prediction))\n",
    "print(\"Mean absolute error: %.2f\" % mean_absolute_error(y_test,prediction))\n",
    "print(\"Root mean squared error: \", math.sqrt(mean_squared_error(y_test,prediction)))"
   ]
  },
  {
   "cell_type": "code",
   "execution_count": 27,
   "id": "4fcaca54",
   "metadata": {},
   "outputs": [
    {
     "data": {
      "image/png": "[encoded data removed]",
      "text/plain": [
       "<Figure size 720x720 with 1 Axes>"
      ]
     },
     "metadata": {
      "needs_background": "light"
     },
     "output_type": "display_data"
    }
   ],
   "source": [
    "plt.figure(figsize=(10,10))\n",
    "plt.scatter(y_test,prediction, color ='red')\n",
    "\n",
    "p1 = max(max(prediction), max(y_test))\n",
    "p2 = min(min(prediction), min(y_test))\n",
    "plt.plot([p1, p2], [p1, p2], 'b-')\n",
    "plt.xlabel('True Values', fontsize=15)\n",
    "plt.ylabel('Predictions', fontsize=15)\n",
    "plt.axis('equal')\n",
    "plt.show()"
   ]
  },
  {
   "cell_type": "code",
   "execution_count": null,
   "id": "85b9eadc",
   "metadata": {},
   "outputs": [],
   "source": []
  },
  {
   "cell_type": "code",
   "execution_count": null,
   "id": "08ef3504",
   "metadata": {},
   "outputs": [],
   "source": []
  }
 ],
 "metadata": {
  "kernelspec": {
   "display_name": "Python 3 (ipykernel)",
   "language": "python",
   "name": "python3"
  },
  "language_info": {
   "codemirror_mode": {
    "name": "ipython",
    "version": 3
   },
   "file_extension": ".py",
   "mimetype": "text/x-python",
   "name": "python",
   "nbconvert_exporter": "python",
   "pygments_lexer": "ipython3",
   "version": "3.9.7"
  }
 },
 "nbformat": 4,
 "nbformat_minor": 5
}
