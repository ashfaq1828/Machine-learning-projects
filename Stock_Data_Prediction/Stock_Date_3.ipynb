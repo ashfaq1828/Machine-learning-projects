{
 "cells": [
  {
   "cell_type": "code",
   "execution_count": null,
   "metadata": {},
   "outputs": [],
   "source": []
  },
  {
   "cell_type": "markdown",
   "metadata": {},
   "source": [
    "### Merge all CSV Files data in single File"
   ]
  },
  {
   "cell_type": "code",
   "execution_count": 2,
   "metadata": {},
   "outputs": [],
   "source": [
    "import pandas as pd\n",
    "import os\n",
    "\n",
    "Folder_Path=r'C:\\Users\\AshfaqAli\\Documents\\ML Learning\\Transpose Data\\All In One Data'\n",
    "all_files = os.listdir(Folder_Path)\n",
    "\n",
    "csv_File= [f for f in all_files if f.endswith('.csv') ]\n",
    "\n",
    "df_list=[]\n",
    "\n",
    "for csv in csv_File:\n",
    "    file_path=os.path.join(Folder_Path,csv)\n",
    "\n",
    "    try:\n",
    "        df=pd.read_csv(file_path)\n",
    "        df_list.append(df)\n",
    "    except UnicodeDecodeError:\n",
    "        try:\n",
    "            df = pd.read_csv(file_path, sep='\\t', encoding='utf-16')\n",
    "            df_list.append(df)\n",
    "        except Exception as e:\n",
    "            print(f\"Could not read file {csv} because of error: {e}\")\n",
    "    except Exception as e:\n",
    "        print(f\"Could not read file {csv} because of error: {e}\")\n",
    "\n",
    "# Concatenate all data into one DataFrame\n",
    "big_df = pd.concat(df_list, ignore_index=True)\n",
    "\n",
    "# Save the final result to a new CSV file\n",
    "big_df.to_csv(os.path.join(Folder_Path, 'combined_file.csv'), index=False)"
   ]
  },
  {
   "cell_type": "code",
   "execution_count": 3,
   "metadata": {},
   "outputs": [],
   "source": [
    "import pandas as pd\n",
    "import os\n",
    "\n",
    "# Directory where your CSV files are located\n",
    "folder_path = r'C:\\Users\\AshfaqAli\\Documents\\ML Learning\\Transpose Data\\All In One Data'\n",
    "\n",
    "# List all CSV files in the folder\n",
    "csv_files = [file for file in os.listdir(folder_path) if file.endswith('.csv')]\n",
    "\n",
    "# Create an empty DataFrame to store concatenated data\n",
    "combined_data = pd.DataFrame()\n",
    "\n",
    "# Iterate through each CSV file and concatenate into a single row\n",
    "for file in csv_files:\n",
    "    # Read each CSV file into a DataFrame\n",
    "    df = pd.read_csv(os.path.join(folder_path, file))\n",
    "    # Transpose the DataFrame to convert columns to rows\n",
    "    df_transposed = df.T\n",
    "    # Add transposed DataFrame as a row to the combined data\n",
    "    combined_data = pd.concat([combined_data, df_transposed], axis=1)\n",
    "\n",
    "# Transpose the combined data to convert rows to columns\n",
    "combined_data = combined_data.T\n",
    "\n",
    "# Save the concatenated data to a new CSV file\n",
    "combined_data.to_csv('combined_row_1.csv', index=False)\n"
   ]
  },
  {
   "cell_type": "code",
   "execution_count": null,
   "metadata": {},
   "outputs": [],
   "source": []
  }
 ],
 "metadata": {
  "kernelspec": {
   "display_name": "Python 3",
   "language": "python",
   "name": "python3"
  },
  "language_info": {
   "codemirror_mode": {
    "name": "ipython",
    "version": 3
   },
   "file_extension": ".py",
   "mimetype": "text/x-python",
   "name": "python",
   "nbconvert_exporter": "python",
   "pygments_lexer": "ipython3",
   "version": "3.11.1"
  }
 },
 "nbformat": 4,
 "nbformat_minor": 2
}
