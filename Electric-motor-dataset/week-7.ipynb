{
 "cells": [
  {
   "cell_type": "markdown",
   "id": "e224f589",
   "metadata": {},
   "source": [
    "## Build a linear regression model for the dataset ‘electric_motor.csv’. Comment on the results\n",
    "\n"
   ]
  },
  {
   "cell_type": "code",
   "execution_count": 1,
   "id": "4c3ba424",
   "metadata": {},
   "outputs": [],
   "source": [
    "import pandas as pd\n",
    "import numpy as np\n",
    "import seaborn as sns\n",
    "import matplotlib.pyplot as plt"
   ]
  },
  {
   "cell_type": "code",
   "execution_count": 2,
   "id": "88374e47",
   "metadata": {},
   "outputs": [],
   "source": [
    "df = pd.read_csv('pmsm_temperature_data(1).csv')"
   ]
  },
  {
   "cell_type": "code",
   "execution_count": 3,
   "id": "4d25672b",
   "metadata": {},
   "outputs": [
    {
     "data": {
      "text/html": [
       "<div>\n",
       "<style scoped>\n",
       "    .dataframe tbody tr th:only-of-type {\n",
       "        vertical-align: middle;\n",
       "    }\n",
       "\n",
       "    .dataframe tbody tr th {\n",
       "        vertical-align: top;\n",
       "    }\n",
       "\n",
       "    .dataframe thead th {\n",
       "        text-align: right;\n",
       "    }\n",
       "</style>\n",
       "<table border=\"1\" class=\"dataframe\">\n",
       "  <thead>\n",
       "    <tr style=\"text-align: right;\">\n",
       "      <th></th>\n",
       "      <th>ambient</th>\n",
       "      <th>coolant</th>\n",
       "      <th>u_d</th>\n",
       "      <th>u_q</th>\n",
       "      <th>motor_speed</th>\n",
       "      <th>torque</th>\n",
       "      <th>i_d</th>\n",
       "      <th>i_q</th>\n",
       "      <th>pm</th>\n",
       "      <th>stator_yoke</th>\n",
       "      <th>stator_tooth</th>\n",
       "      <th>stator_winding</th>\n",
       "      <th>profile_id</th>\n",
       "    </tr>\n",
       "  </thead>\n",
       "  <tbody>\n",
       "    <tr>\n",
       "      <th>0</th>\n",
       "      <td>-0.752143</td>\n",
       "      <td>-1.118446</td>\n",
       "      <td>0.327935</td>\n",
       "      <td>-1.297858</td>\n",
       "      <td>-1.222428</td>\n",
       "      <td>-0.250182</td>\n",
       "      <td>1.029572</td>\n",
       "      <td>-0.245860</td>\n",
       "      <td>-2.522071</td>\n",
       "      <td>-1.831422</td>\n",
       "      <td>-2.066143</td>\n",
       "      <td>-2.018033</td>\n",
       "      <td>4</td>\n",
       "    </tr>\n",
       "    <tr>\n",
       "      <th>1</th>\n",
       "      <td>-0.771263</td>\n",
       "      <td>-1.117021</td>\n",
       "      <td>0.329665</td>\n",
       "      <td>-1.297686</td>\n",
       "      <td>-1.222429</td>\n",
       "      <td>-0.249133</td>\n",
       "      <td>1.029509</td>\n",
       "      <td>-0.245832</td>\n",
       "      <td>-2.522418</td>\n",
       "      <td>-1.830969</td>\n",
       "      <td>-2.064859</td>\n",
       "      <td>-2.017631</td>\n",
       "      <td>4</td>\n",
       "    </tr>\n",
       "    <tr>\n",
       "      <th>2</th>\n",
       "      <td>-0.782892</td>\n",
       "      <td>-1.116681</td>\n",
       "      <td>0.332771</td>\n",
       "      <td>-1.301822</td>\n",
       "      <td>-1.222428</td>\n",
       "      <td>-0.249431</td>\n",
       "      <td>1.029448</td>\n",
       "      <td>-0.245818</td>\n",
       "      <td>-2.522673</td>\n",
       "      <td>-1.830400</td>\n",
       "      <td>-2.064073</td>\n",
       "      <td>-2.017343</td>\n",
       "      <td>4</td>\n",
       "    </tr>\n",
       "    <tr>\n",
       "      <th>3</th>\n",
       "      <td>-0.780935</td>\n",
       "      <td>-1.116764</td>\n",
       "      <td>0.333700</td>\n",
       "      <td>-1.301852</td>\n",
       "      <td>-1.222430</td>\n",
       "      <td>-0.248636</td>\n",
       "      <td>1.032845</td>\n",
       "      <td>-0.246955</td>\n",
       "      <td>-2.521639</td>\n",
       "      <td>-1.830333</td>\n",
       "      <td>-2.063137</td>\n",
       "      <td>-2.017632</td>\n",
       "      <td>4</td>\n",
       "    </tr>\n",
       "    <tr>\n",
       "      <th>4</th>\n",
       "      <td>-0.774043</td>\n",
       "      <td>-1.116775</td>\n",
       "      <td>0.335206</td>\n",
       "      <td>-1.303118</td>\n",
       "      <td>-1.222429</td>\n",
       "      <td>-0.248701</td>\n",
       "      <td>1.031807</td>\n",
       "      <td>-0.246610</td>\n",
       "      <td>-2.521900</td>\n",
       "      <td>-1.830498</td>\n",
       "      <td>-2.062795</td>\n",
       "      <td>-2.018145</td>\n",
       "      <td>4</td>\n",
       "    </tr>\n",
       "    <tr>\n",
       "      <th>...</th>\n",
       "      <td>...</td>\n",
       "      <td>...</td>\n",
       "      <td>...</td>\n",
       "      <td>...</td>\n",
       "      <td>...</td>\n",
       "      <td>...</td>\n",
       "      <td>...</td>\n",
       "      <td>...</td>\n",
       "      <td>...</td>\n",
       "      <td>...</td>\n",
       "      <td>...</td>\n",
       "      <td>...</td>\n",
       "      <td>...</td>\n",
       "    </tr>\n",
       "    <tr>\n",
       "      <th>998065</th>\n",
       "      <td>-0.047497</td>\n",
       "      <td>0.341638</td>\n",
       "      <td>0.331475</td>\n",
       "      <td>-1.246114</td>\n",
       "      <td>-1.222428</td>\n",
       "      <td>-0.255640</td>\n",
       "      <td>1.029142</td>\n",
       "      <td>-0.245723</td>\n",
       "      <td>0.429853</td>\n",
       "      <td>1.018568</td>\n",
       "      <td>0.836084</td>\n",
       "      <td>0.494725</td>\n",
       "      <td>72</td>\n",
       "    </tr>\n",
       "    <tr>\n",
       "      <th>998066</th>\n",
       "      <td>-0.048839</td>\n",
       "      <td>0.320022</td>\n",
       "      <td>0.331701</td>\n",
       "      <td>-1.250655</td>\n",
       "      <td>-1.222437</td>\n",
       "      <td>-0.255640</td>\n",
       "      <td>1.029148</td>\n",
       "      <td>-0.245736</td>\n",
       "      <td>0.429751</td>\n",
       "      <td>1.013416</td>\n",
       "      <td>0.834438</td>\n",
       "      <td>0.494279</td>\n",
       "      <td>72</td>\n",
       "    </tr>\n",
       "    <tr>\n",
       "      <th>998067</th>\n",
       "      <td>-0.042350</td>\n",
       "      <td>0.307415</td>\n",
       "      <td>0.330946</td>\n",
       "      <td>-1.246852</td>\n",
       "      <td>-1.222430</td>\n",
       "      <td>-0.255640</td>\n",
       "      <td>1.029191</td>\n",
       "      <td>-0.245701</td>\n",
       "      <td>0.429439</td>\n",
       "      <td>1.002906</td>\n",
       "      <td>0.833936</td>\n",
       "      <td>0.492666</td>\n",
       "      <td>72</td>\n",
       "    </tr>\n",
       "    <tr>\n",
       "      <th>998068</th>\n",
       "      <td>-0.039433</td>\n",
       "      <td>0.302082</td>\n",
       "      <td>0.330987</td>\n",
       "      <td>-1.249505</td>\n",
       "      <td>-1.222432</td>\n",
       "      <td>-0.255640</td>\n",
       "      <td>1.029147</td>\n",
       "      <td>-0.245727</td>\n",
       "      <td>0.429558</td>\n",
       "      <td>0.999157</td>\n",
       "      <td>0.830504</td>\n",
       "      <td>0.490581</td>\n",
       "      <td>72</td>\n",
       "    </tr>\n",
       "    <tr>\n",
       "      <th>998069</th>\n",
       "      <td>-0.043803</td>\n",
       "      <td>0.312666</td>\n",
       "      <td>0.330830</td>\n",
       "      <td>-1.246590</td>\n",
       "      <td>-1.222431</td>\n",
       "      <td>-0.255640</td>\n",
       "      <td>1.029141</td>\n",
       "      <td>-0.245722</td>\n",
       "      <td>0.429166</td>\n",
       "      <td>0.987163</td>\n",
       "      <td>0.828046</td>\n",
       "      <td>0.489382</td>\n",
       "      <td>72</td>\n",
       "    </tr>\n",
       "  </tbody>\n",
       "</table>\n",
       "<p>998070 rows × 13 columns</p>\n",
       "</div>"
      ],
      "text/plain": [
       "         ambient   coolant       u_d       u_q  motor_speed    torque  \\\n",
       "0      -0.752143 -1.118446  0.327935 -1.297858    -1.222428 -0.250182   \n",
       "1      -0.771263 -1.117021  0.329665 -1.297686    -1.222429 -0.249133   \n",
       "2      -0.782892 -1.116681  0.332771 -1.301822    -1.222428 -0.249431   \n",
       "3      -0.780935 -1.116764  0.333700 -1.301852    -1.222430 -0.248636   \n",
       "4      -0.774043 -1.116775  0.335206 -1.303118    -1.222429 -0.248701   \n",
       "...          ...       ...       ...       ...          ...       ...   \n",
       "998065 -0.047497  0.341638  0.331475 -1.246114    -1.222428 -0.255640   \n",
       "998066 -0.048839  0.320022  0.331701 -1.250655    -1.222437 -0.255640   \n",
       "998067 -0.042350  0.307415  0.330946 -1.246852    -1.222430 -0.255640   \n",
       "998068 -0.039433  0.302082  0.330987 -1.249505    -1.222432 -0.255640   \n",
       "998069 -0.043803  0.312666  0.330830 -1.246590    -1.222431 -0.255640   \n",
       "\n",
       "             i_d       i_q        pm  stator_yoke  stator_tooth  \\\n",
       "0       1.029572 -0.245860 -2.522071    -1.831422     -2.066143   \n",
       "1       1.029509 -0.245832 -2.522418    -1.830969     -2.064859   \n",
       "2       1.029448 -0.245818 -2.522673    -1.830400     -2.064073   \n",
       "3       1.032845 -0.246955 -2.521639    -1.830333     -2.063137   \n",
       "4       1.031807 -0.246610 -2.521900    -1.830498     -2.062795   \n",
       "...          ...       ...       ...          ...           ...   \n",
       "998065  1.029142 -0.245723  0.429853     1.018568      0.836084   \n",
       "998066  1.029148 -0.245736  0.429751     1.013416      0.834438   \n",
       "998067  1.029191 -0.245701  0.429439     1.002906      0.833936   \n",
       "998068  1.029147 -0.245727  0.429558     0.999157      0.830504   \n",
       "998069  1.029141 -0.245722  0.429166     0.987163      0.828046   \n",
       "\n",
       "        stator_winding  profile_id  \n",
       "0            -2.018033           4  \n",
       "1            -2.017631           4  \n",
       "2            -2.017343           4  \n",
       "3            -2.017632           4  \n",
       "4            -2.018145           4  \n",
       "...                ...         ...  \n",
       "998065        0.494725          72  \n",
       "998066        0.494279          72  \n",
       "998067        0.492666          72  \n",
       "998068        0.490581          72  \n",
       "998069        0.489382          72  \n",
       "\n",
       "[998070 rows x 13 columns]"
      ]
     },
     "execution_count": 3,
     "metadata": {},
     "output_type": "execute_result"
    }
   ],
   "source": [
    "df"
   ]
  },
  {
   "cell_type": "code",
   "execution_count": 4,
   "id": "3aef122b",
   "metadata": {},
   "outputs": [
    {
     "data": {
      "text/html": [
       "<div>\n",
       "<style scoped>\n",
       "    .dataframe tbody tr th:only-of-type {\n",
       "        vertical-align: middle;\n",
       "    }\n",
       "\n",
       "    .dataframe tbody tr th {\n",
       "        vertical-align: top;\n",
       "    }\n",
       "\n",
       "    .dataframe thead th {\n",
       "        text-align: right;\n",
       "    }\n",
       "</style>\n",
       "<table border=\"1\" class=\"dataframe\">\n",
       "  <thead>\n",
       "    <tr style=\"text-align: right;\">\n",
       "      <th></th>\n",
       "      <th>ambient</th>\n",
       "      <th>coolant</th>\n",
       "      <th>u_d</th>\n",
       "      <th>u_q</th>\n",
       "      <th>motor_speed</th>\n",
       "      <th>torque</th>\n",
       "      <th>i_d</th>\n",
       "      <th>i_q</th>\n",
       "      <th>pm</th>\n",
       "      <th>stator_yoke</th>\n",
       "      <th>stator_tooth</th>\n",
       "      <th>stator_winding</th>\n",
       "      <th>profile_id</th>\n",
       "    </tr>\n",
       "  </thead>\n",
       "  <tbody>\n",
       "    <tr>\n",
       "      <th>count</th>\n",
       "      <td>998070.000000</td>\n",
       "      <td>998070.000000</td>\n",
       "      <td>998070.000000</td>\n",
       "      <td>998070.000000</td>\n",
       "      <td>998070.000000</td>\n",
       "      <td>998070.000000</td>\n",
       "      <td>998070.000000</td>\n",
       "      <td>998070.000000</td>\n",
       "      <td>998070.000000</td>\n",
       "      <td>998070.000000</td>\n",
       "      <td>998070.000000</td>\n",
       "      <td>998070.000000</td>\n",
       "      <td>998070.000000</td>\n",
       "    </tr>\n",
       "    <tr>\n",
       "      <th>mean</th>\n",
       "      <td>-0.003905</td>\n",
       "      <td>0.004723</td>\n",
       "      <td>0.004780</td>\n",
       "      <td>-0.005690</td>\n",
       "      <td>-0.006336</td>\n",
       "      <td>-0.003333</td>\n",
       "      <td>0.006043</td>\n",
       "      <td>-0.003194</td>\n",
       "      <td>-0.004396</td>\n",
       "      <td>0.000609</td>\n",
       "      <td>-0.002208</td>\n",
       "      <td>-0.003935</td>\n",
       "      <td>50.732001</td>\n",
       "    </tr>\n",
       "    <tr>\n",
       "      <th>std</th>\n",
       "      <td>0.993127</td>\n",
       "      <td>1.002423</td>\n",
       "      <td>0.997878</td>\n",
       "      <td>1.002330</td>\n",
       "      <td>1.001229</td>\n",
       "      <td>0.997907</td>\n",
       "      <td>0.998994</td>\n",
       "      <td>0.997912</td>\n",
       "      <td>0.995686</td>\n",
       "      <td>1.001049</td>\n",
       "      <td>0.999597</td>\n",
       "      <td>0.998343</td>\n",
       "      <td>22.073125</td>\n",
       "    </tr>\n",
       "    <tr>\n",
       "      <th>min</th>\n",
       "      <td>-8.573954</td>\n",
       "      <td>-1.429349</td>\n",
       "      <td>-1.655373</td>\n",
       "      <td>-1.861463</td>\n",
       "      <td>-1.371529</td>\n",
       "      <td>-3.345953</td>\n",
       "      <td>-3.245874</td>\n",
       "      <td>-3.341639</td>\n",
       "      <td>-2.631991</td>\n",
       "      <td>-1.834688</td>\n",
       "      <td>-2.066143</td>\n",
       "      <td>-2.019973</td>\n",
       "      <td>4.000000</td>\n",
       "    </tr>\n",
       "    <tr>\n",
       "      <th>25%</th>\n",
       "      <td>-0.599385</td>\n",
       "      <td>-1.037925</td>\n",
       "      <td>-0.826359</td>\n",
       "      <td>-0.927390</td>\n",
       "      <td>-0.951892</td>\n",
       "      <td>-0.266917</td>\n",
       "      <td>-0.756296</td>\n",
       "      <td>-0.257269</td>\n",
       "      <td>-0.672308</td>\n",
       "      <td>-0.747265</td>\n",
       "      <td>-0.761951</td>\n",
       "      <td>-0.725622</td>\n",
       "      <td>32.000000</td>\n",
       "    </tr>\n",
       "    <tr>\n",
       "      <th>50%</th>\n",
       "      <td>0.266157</td>\n",
       "      <td>-0.177187</td>\n",
       "      <td>0.267542</td>\n",
       "      <td>-0.099818</td>\n",
       "      <td>-0.140246</td>\n",
       "      <td>-0.187246</td>\n",
       "      <td>0.213935</td>\n",
       "      <td>-0.190076</td>\n",
       "      <td>0.094367</td>\n",
       "      <td>-0.057226</td>\n",
       "      <td>0.005085</td>\n",
       "      <td>0.006536</td>\n",
       "      <td>56.000000</td>\n",
       "    </tr>\n",
       "    <tr>\n",
       "      <th>75%</th>\n",
       "      <td>0.686675</td>\n",
       "      <td>0.650709</td>\n",
       "      <td>0.358491</td>\n",
       "      <td>0.852625</td>\n",
       "      <td>0.853584</td>\n",
       "      <td>0.547171</td>\n",
       "      <td>1.013975</td>\n",
       "      <td>0.499260</td>\n",
       "      <td>0.680691</td>\n",
       "      <td>0.697344</td>\n",
       "      <td>0.772239</td>\n",
       "      <td>0.725660</td>\n",
       "      <td>68.000000</td>\n",
       "    </tr>\n",
       "    <tr>\n",
       "      <th>max</th>\n",
       "      <td>2.967117</td>\n",
       "      <td>2.649032</td>\n",
       "      <td>2.274734</td>\n",
       "      <td>1.793498</td>\n",
       "      <td>2.024164</td>\n",
       "      <td>3.016971</td>\n",
       "      <td>1.060937</td>\n",
       "      <td>2.914185</td>\n",
       "      <td>2.917456</td>\n",
       "      <td>2.449158</td>\n",
       "      <td>2.326668</td>\n",
       "      <td>2.653781</td>\n",
       "      <td>81.000000</td>\n",
       "    </tr>\n",
       "  </tbody>\n",
       "</table>\n",
       "</div>"
      ],
      "text/plain": [
       "             ambient        coolant            u_d            u_q  \\\n",
       "count  998070.000000  998070.000000  998070.000000  998070.000000   \n",
       "mean       -0.003905       0.004723       0.004780      -0.005690   \n",
       "std         0.993127       1.002423       0.997878       1.002330   \n",
       "min        -8.573954      -1.429349      -1.655373      -1.861463   \n",
       "25%        -0.599385      -1.037925      -0.826359      -0.927390   \n",
       "50%         0.266157      -0.177187       0.267542      -0.099818   \n",
       "75%         0.686675       0.650709       0.358491       0.852625   \n",
       "max         2.967117       2.649032       2.274734       1.793498   \n",
       "\n",
       "         motor_speed         torque            i_d            i_q  \\\n",
       "count  998070.000000  998070.000000  998070.000000  998070.000000   \n",
       "mean       -0.006336      -0.003333       0.006043      -0.003194   \n",
       "std         1.001229       0.997907       0.998994       0.997912   \n",
       "min        -1.371529      -3.345953      -3.245874      -3.341639   \n",
       "25%        -0.951892      -0.266917      -0.756296      -0.257269   \n",
       "50%        -0.140246      -0.187246       0.213935      -0.190076   \n",
       "75%         0.853584       0.547171       1.013975       0.499260   \n",
       "max         2.024164       3.016971       1.060937       2.914185   \n",
       "\n",
       "                  pm    stator_yoke   stator_tooth  stator_winding  \\\n",
       "count  998070.000000  998070.000000  998070.000000   998070.000000   \n",
       "mean       -0.004396       0.000609      -0.002208       -0.003935   \n",
       "std         0.995686       1.001049       0.999597        0.998343   \n",
       "min        -2.631991      -1.834688      -2.066143       -2.019973   \n",
       "25%        -0.672308      -0.747265      -0.761951       -0.725622   \n",
       "50%         0.094367      -0.057226       0.005085        0.006536   \n",
       "75%         0.680691       0.697344       0.772239        0.725660   \n",
       "max         2.917456       2.449158       2.326668        2.653781   \n",
       "\n",
       "          profile_id  \n",
       "count  998070.000000  \n",
       "mean       50.732001  \n",
       "std        22.073125  \n",
       "min         4.000000  \n",
       "25%        32.000000  \n",
       "50%        56.000000  \n",
       "75%        68.000000  \n",
       "max        81.000000  "
      ]
     },
     "execution_count": 4,
     "metadata": {},
     "output_type": "execute_result"
    }
   ],
   "source": [
    "df.describe()"
   ]
  },
  {
   "cell_type": "code",
   "execution_count": 5,
   "id": "d9f17250",
   "metadata": {},
   "outputs": [
    {
     "data": {
      "text/plain": [
       "ambient           0\n",
       "coolant           0\n",
       "u_d               0\n",
       "u_q               0\n",
       "motor_speed       0\n",
       "torque            0\n",
       "i_d               0\n",
       "i_q               0\n",
       "pm                0\n",
       "stator_yoke       0\n",
       "stator_tooth      0\n",
       "stator_winding    0\n",
       "profile_id        0\n",
       "dtype: int64"
      ]
     },
     "execution_count": 5,
     "metadata": {},
     "output_type": "execute_result"
    }
   ],
   "source": [
    "df.isnull().sum()"
   ]
  },
  {
   "cell_type": "code",
   "execution_count": 7,
   "id": "9b4870fd",
   "metadata": {},
   "outputs": [
    {
     "data": {
      "text/plain": [
       "<AxesSubplot:>"
      ]
     },
     "execution_count": 7,
     "metadata": {},
     "output_type": "execute_result"
    },
    {
     "data": {
      "image/png": "[encoded data removed]",
      "text/plain": [
       "<Figure size 432x288 with 2 Axes>"
      ]
     },
     "metadata": {
      "needs_background": "light"
     },
     "output_type": "display_data"
    }
   ],
   "source": [
    "sns.heatmap(df.isnull(),yticklabels=\"False\",cmap='viridis')"
   ]
  },
  {
   "cell_type": "code",
   "execution_count": 8,
   "id": "a951761a",
   "metadata": {},
   "outputs": [
    {
     "data": {
      "text/plain": [
       "(998070, 13)"
      ]
     },
     "execution_count": 8,
     "metadata": {},
     "output_type": "execute_result"
    }
   ],
   "source": [
    "df.shape"
   ]
  },
  {
   "cell_type": "code",
   "execution_count": 9,
   "id": "7de75e49",
   "metadata": {},
   "outputs": [
    {
     "name": "stdout",
     "output_type": "stream",
     "text": [
      "Number of duplicate entries in the dataset 0\n"
     ]
    }
   ],
   "source": [
    "#checking for duplicates\n",
    "\n",
    "print('Number of duplicate entries in the dataset {}'.format(sum(df.duplicated())))"
   ]
  },
  {
   "cell_type": "code",
   "execution_count": null,
   "id": "945250e1",
   "metadata": {},
   "outputs": [],
   "source": []
  },
  {
   "cell_type": "markdown",
   "id": "c163a6b3",
   "metadata": {},
   "source": [
    "## Differenciating dependent and independent variables"
   ]
  },
  {
   "cell_type": "code",
   "execution_count": 3,
   "id": "97074c25",
   "metadata": {},
   "outputs": [],
   "source": [
    "X=pd.DataFrame(df.drop(['motor_speed'],axis=1))\n",
    "y= df.motor_speed.values.astype(object)"
   ]
  },
  {
   "cell_type": "code",
   "execution_count": 7,
   "id": "21186b3c",
   "metadata": {},
   "outputs": [
    {
     "name": "stdout",
     "output_type": "stream",
     "text": [
      "         ambient   coolant       u_d       u_q    torque       i_d       i_q  \\\n",
      "0      -0.752143 -1.118446  0.327935 -1.297858 -0.250182  1.029572 -0.245860   \n",
      "1      -0.771263 -1.117021  0.329665 -1.297686 -0.249133  1.029509 -0.245832   \n",
      "2      -0.782892 -1.116681  0.332771 -1.301822 -0.249431  1.029448 -0.245818   \n",
      "3      -0.780935 -1.116764  0.333700 -1.301852 -0.248636  1.032845 -0.246955   \n",
      "4      -0.774043 -1.116775  0.335206 -1.303118 -0.248701  1.031807 -0.246610   \n",
      "...          ...       ...       ...       ...       ...       ...       ...   \n",
      "998065 -0.047497  0.341638  0.331475 -1.246114 -0.255640  1.029142 -0.245723   \n",
      "998066 -0.048839  0.320022  0.331701 -1.250655 -0.255640  1.029148 -0.245736   \n",
      "998067 -0.042350  0.307415  0.330946 -1.246852 -0.255640  1.029191 -0.245701   \n",
      "998068 -0.039433  0.302082  0.330987 -1.249505 -0.255640  1.029147 -0.245727   \n",
      "998069 -0.043803  0.312666  0.330830 -1.246590 -0.255640  1.029141 -0.245722   \n",
      "\n",
      "              pm  stator_yoke  stator_tooth  stator_winding  profile_id  \n",
      "0      -2.522071    -1.831422     -2.066143       -2.018033           4  \n",
      "1      -2.522418    -1.830969     -2.064859       -2.017631           4  \n",
      "2      -2.522673    -1.830400     -2.064073       -2.017343           4  \n",
      "3      -2.521639    -1.830333     -2.063137       -2.017632           4  \n",
      "4      -2.521900    -1.830498     -2.062795       -2.018145           4  \n",
      "...          ...          ...           ...             ...         ...  \n",
      "998065  0.429853     1.018568      0.836084        0.494725          72  \n",
      "998066  0.429751     1.013416      0.834438        0.494279          72  \n",
      "998067  0.429439     1.002906      0.833936        0.492666          72  \n",
      "998068  0.429558     0.999157      0.830504        0.490581          72  \n",
      "998069  0.429166     0.987163      0.828046        0.489382          72  \n",
      "\n",
      "[998070 rows x 12 columns]\n"
     ]
    }
   ],
   "source": [
    "print(X)"
   ]
  },
  {
   "cell_type": "code",
   "execution_count": 8,
   "id": "b4d3b152",
   "metadata": {},
   "outputs": [
    {
     "name": "stdout",
     "output_type": "stream",
     "text": [
      "[-1.2224282 -1.2224293 -1.2224278 ... -1.2224296 -1.222432 -1.2224313]\n"
     ]
    }
   ],
   "source": [
    "print(y)"
   ]
  },
  {
   "cell_type": "code",
   "execution_count": 6,
   "id": "97bbaf6b",
   "metadata": {},
   "outputs": [
    {
     "data": {
      "text/plain": [
       "((998070, 12), (998070,))"
      ]
     },
     "execution_count": 6,
     "metadata": {},
     "output_type": "execute_result"
    }
   ],
   "source": [
    "X.shape , y.shape"
   ]
  },
  {
   "cell_type": "code",
   "execution_count": null,
   "id": "585cb5d4",
   "metadata": {},
   "outputs": [],
   "source": []
  },
  {
   "cell_type": "markdown",
   "id": "a1fa8afc",
   "metadata": {},
   "source": [
    "## Standard scalar"
   ]
  },
  {
   "cell_type": "code",
   "execution_count": 9,
   "id": "fe88aa73",
   "metadata": {},
   "outputs": [],
   "source": [
    "from sklearn.preprocessing import StandardScaler\n",
    "scaler = StandardScaler()"
   ]
  },
  {
   "cell_type": "code",
   "execution_count": 10,
   "id": "c89e299f",
   "metadata": {},
   "outputs": [],
   "source": [
    "X=scaler.fit_transform(X)"
   ]
  },
  {
   "cell_type": "code",
   "execution_count": 11,
   "id": "1aeb3701",
   "metadata": {},
   "outputs": [
    {
     "name": "stdout",
     "output_type": "stream",
     "text": [
      "[[-0.75341625 -1.12045388  0.32384208 ... -2.06476719 -2.01744231\n",
      "  -2.11714577]\n",
      " [-0.77266885 -1.11903183  0.32557536 ... -2.06348257 -2.01704034\n",
      "  -2.11714577]\n",
      " [-0.78437773 -1.11869335  0.32868866 ... -2.06269656 -2.01675207\n",
      "  -2.11714577]\n",
      " ...\n",
      " [-0.03871069  0.30196085  0.32685895 ...  0.83648055  0.49742538\n",
      "   0.96352508]\n",
      " [-0.03577363  0.29664037  0.32690032 ...  0.83304777  0.49533692\n",
      "   0.96352508]\n",
      " [-0.04017317  0.30719908  0.32674256 ...  0.83058818  0.49413635\n",
      "   0.96352508]]\n"
     ]
    }
   ],
   "source": [
    "print(X)"
   ]
  },
  {
   "cell_type": "code",
   "execution_count": null,
   "id": "74ee4b3f",
   "metadata": {},
   "outputs": [],
   "source": []
  },
  {
   "cell_type": "markdown",
   "id": "9d056e91",
   "metadata": {},
   "source": [
    "## Splitting the data into training and test data"
   ]
  },
  {
   "cell_type": "code",
   "execution_count": 12,
   "id": "895c9f88",
   "metadata": {},
   "outputs": [],
   "source": [
    "from sklearn.model_selection import train_test_split\n",
    "\n",
    "X_train,X_test,y_train,y_test = train_test_split(X,y,test_size = 0.3,random_state = 100)"
   ]
  },
  {
   "cell_type": "code",
   "execution_count": 13,
   "id": "54e56450",
   "metadata": {},
   "outputs": [
    {
     "name": "stdout",
     "output_type": "stream",
     "text": [
      "X_train (698649, 12)\n",
      "X_test (299421, 12)\n",
      "y_train (698649,)\n",
      "y_test (299421,)\n"
     ]
    }
   ],
   "source": [
    "print('X_train',X_train.shape)\n",
    "print('X_test',X_test.shape)\n",
    "print('y_train',y_train.shape)\n",
    "print('y_test',y_test.shape)"
   ]
  },
  {
   "cell_type": "code",
   "execution_count": null,
   "id": "63e6a72d",
   "metadata": {},
   "outputs": [],
   "source": []
  },
  {
   "cell_type": "markdown",
   "id": "2247cc3b",
   "metadata": {},
   "source": [
    "## Linear Regression"
   ]
  },
  {
   "cell_type": "code",
   "execution_count": 15,
   "id": "849362ca",
   "metadata": {},
   "outputs": [],
   "source": [
    "from sklearn.linear_model import LinearRegression"
   ]
  },
  {
   "cell_type": "code",
   "execution_count": 16,
   "id": "0352529a",
   "metadata": {},
   "outputs": [],
   "source": [
    "model = LinearRegression()"
   ]
  },
  {
   "cell_type": "code",
   "execution_count": 17,
   "id": "86cc5640",
   "metadata": {},
   "outputs": [
    {
     "data": {
      "text/plain": [
       "LinearRegression()"
      ]
     },
     "execution_count": 17,
     "metadata": {},
     "output_type": "execute_result"
    }
   ],
   "source": [
    "model.fit(X_train, y_train)\n",
    "LinearRegression()"
   ]
  },
  {
   "cell_type": "code",
   "execution_count": 19,
   "id": "fe55c85b",
   "metadata": {},
   "outputs": [],
   "source": [
    "model = LinearRegression().fit(X_train, y_train)"
   ]
  },
  {
   "cell_type": "code",
   "execution_count": 20,
   "id": "36f18c04",
   "metadata": {},
   "outputs": [
    {
     "name": "stdout",
     "output_type": "stream",
     "text": [
      "coefficient of determination: 0.9282945883729184\n"
     ]
    }
   ],
   "source": [
    "r_sq = model.score(X_test, y_test)\n",
    "print(f\"coefficient of determination: {r_sq}\")"
   ]
  },
  {
   "cell_type": "code",
   "execution_count": 21,
   "id": "2ebf35c6",
   "metadata": {},
   "outputs": [
    {
     "name": "stdout",
     "output_type": "stream",
     "text": [
      "intercept: -0.00630096103923807\n"
     ]
    }
   ],
   "source": [
    "print(f\"intercept: {model.intercept_}\")"
   ]
  },
  {
   "cell_type": "code",
   "execution_count": 22,
   "id": "55d626b8",
   "metadata": {},
   "outputs": [
    {
     "name": "stdout",
     "output_type": "stream",
     "text": [
      "slope: [-0.0486571   0.41129662 -0.16453114  0.54023382 -0.34089699 -0.65716435\n",
      "  0.13557794  0.10517463 -1.62732414  2.31649651 -1.16654618 -0.00486198]\n"
     ]
    }
   ],
   "source": [
    "print(f\"slope: {model.coef_}\")"
   ]
  },
  {
   "cell_type": "code",
   "execution_count": 23,
   "id": "23f0b31e",
   "metadata": {},
   "outputs": [],
   "source": [
    "# Making predictions using the predict() and xTest data\n",
    "predictions = model.predict(X_test)"
   ]
  },
  {
   "cell_type": "code",
   "execution_count": 24,
   "id": "93f13a8a",
   "metadata": {},
   "outputs": [],
   "source": [
    "comparison = pd.DataFrame({'Predicted Values':predictions,'Actual Values':y_test})"
   ]
  },
  {
   "cell_type": "code",
   "execution_count": 25,
   "id": "83e2a37e",
   "metadata": {},
   "outputs": [
    {
     "name": "stdout",
     "output_type": "stream",
     "text": [
      "   Predicted Values Actual Values\n",
      "0         -0.468799     -0.793821\n",
      "1         -0.487384     -0.319742\n",
      "2         -1.187428      -1.22243\n",
      "3         -0.301096     -0.410786\n",
      "4          1.217943      1.547961\n",
      "5         -1.400881     -1.222431\n",
      "6         -0.010068      -0.16189\n",
      "7         -0.396517     -0.410791\n",
      "8          0.865404      1.583806\n",
      "9          1.225762      1.547964\n"
     ]
    }
   ],
   "source": [
    "print(comparison.head(10))"
   ]
  },
  {
   "cell_type": "code",
   "execution_count": null,
   "id": "1b98a295",
   "metadata": {},
   "outputs": [],
   "source": []
  }
 ],
 "metadata": {
  "kernelspec": {
   "display_name": "Python 3 (ipykernel)",
   "language": "python",
   "name": "python3"
  },
  "language_info": {
   "codemirror_mode": {
    "name": "ipython",
    "version": 3
   },
   "file_extension": ".py",
   "mimetype": "text/x-python",
   "name": "python",
   "nbconvert_exporter": "python",
   "pygments_lexer": "ipython3",
   "version": "3.9.7"
  }
 },
 "nbformat": 4,
 "nbformat_minor": 5
}
